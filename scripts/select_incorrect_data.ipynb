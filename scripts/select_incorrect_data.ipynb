{
 "cells": [
  {
   "cell_type": "code",
   "execution_count": null,
   "id": "cc641b1b-2e8e-4ba4-b257-506814bd5af4",
   "metadata": {
    "tags": []
   },
   "outputs": [],
   "source": [
    "# !python3 -m venv analysis-venv\n",
    "!source analysis-venv/bin/activate\n"
   ]
  },
  {
   "cell_type": "code",
   "execution_count": null,
   "id": "b69a510e-79c9-49f3-ae1a-5210c992575b",
   "metadata": {
    "scrolled": true,
    "tags": []
   },
   "outputs": [],
   "source": [
    "# pip install --upgrad pandas"
   ]
  },
  {
   "cell_type": "code",
   "execution_count": null,
   "id": "b6960fd8-62eb-43cd-b52f-35c8aee43080",
   "metadata": {
    "scrolled": true,
    "tags": []
   },
   "outputs": [],
   "source": [
    "!pip install numpy==1.26.4"
   ]
  },
  {
   "cell_type": "code",
   "execution_count": null,
   "id": "4befc591-9d81-4226-bd97-08b0a008f29a",
   "metadata": {
    "tags": []
   },
   "outputs": [],
   "source": [
    "import os\n",
    "import numpy as np\n",
    "import joblib\n",
    "\n",
    "os.getcwd()"
   ]
  },
  {
   "cell_type": "code",
   "execution_count": null,
   "id": "7ff8684e-dd45-4855-b587-5b7d4a4dff87",
   "metadata": {
    "scrolled": true,
    "tags": []
   },
   "outputs": [],
   "source": [
    "!ls"
   ]
  },
  {
   "cell_type": "code",
   "execution_count": null,
   "id": "66440234-36be-4dd6-9d85-5ec0f677ceec",
   "metadata": {
    "tags": []
   },
   "outputs": [],
   "source": [
    "!cd analysis"
   ]
  },
  {
   "cell_type": "code",
   "execution_count": null,
   "id": "b8d7410b-35c0-4280-9aa2-12eac86f6d73",
   "metadata": {
    "tags": []
   },
   "outputs": [],
   "source": [
    "os.getcwd()"
   ]
  },
  {
   "cell_type": "code",
   "execution_count": null,
   "id": "90860a8b-1447-4ae6-b043-ab8bbecad7b1",
   "metadata": {
    "scrolled": true,
    "tags": []
   },
   "outputs": [],
   "source": [
    "# %pip uninstall scikit-learn imbalanced-learn\n",
    "%pip install scikit-learn==1.3.0 imbalanced-learn==0.11.0\n",
    "!pip install emoji\n"
   ]
  },
  {
   "cell_type": "code",
   "execution_count": null,
   "id": "1ceabf5e-3273-4e04-8b81-ad5dd5ac2fa6",
   "metadata": {
    "tags": []
   },
   "outputs": [],
   "source": [
    "import pandas as pd\n",
    "import numpy as np\n",
    "import warnings\n",
    "from sklearn.preprocessing import MinMaxScaler\n",
    "from imblearn.over_sampling import RandomOverSampler, SMOTE, ADASYN, BorderlineSMOTE, KMeansSMOTE, SVMSMOTE\n",
    "from IPython.display import display\n",
    "import re\n",
    "import emoji\n"
   ]
  },
  {
   "cell_type": "code",
   "execution_count": null,
   "id": "1e7ff195-63b8-4c8b-bc1a-161d6295dd25",
   "metadata": {
    "tags": []
   },
   "outputs": [],
   "source": [
    "model_dir_name = 'flan-t5-base'"
   ]
  },
  {
   "cell_type": "code",
   "execution_count": null,
   "id": "06d3030a-6568-4492-8b78-43b5fa4b4b52",
   "metadata": {
    "tags": []
   },
   "outputs": [],
   "source": [
    "random_state = 42\n",
    "np.random.seed(random_state)\n"
   ]
  },
  {
   "cell_type": "code",
   "execution_count": null,
   "id": "72a5c109-326f-444a-ba9a-4d0f25428861",
   "metadata": {
    "tags": []
   },
   "outputs": [],
   "source": [
    "file_path = '/path/to/input/files' % replace with real path\n",
    "df_prediction_explanation_llama = pd.read_csv(file_name)\n",
    "# df_prediction_explanation_llama=df_prediction_explanation_llama.iloc[:25000]\n",
    "\n",
    "df_prediction_explanation_llama = df_prediction_explanation_llama.rename(columns={\n",
    "    'toxicity_score': 'toxicity_score_llama',\n",
    "    'toxicity_explanation':'toxicity_explanation_llama'\n",
    "})\n",
    "\n",
    "file_path = '/path/to/input/files' % replace with real path\n",
    "df_prediction_explanation_qwen = pd.read_csv(file_name)\n",
    "# df_prediction_explanation_qwen=df_prediction_explanation_qwen.iloc[:25000]\n",
    "df_prediction_explanation_qwen = df_prediction_explanation_qwen.rename(columns={\n",
    "    'issue_id':'issue_url',\n",
    "    'toxicity_score': 'toxicity_score_qwen',\n",
    "    'toxicity_explanation':'toxicity_explanation_qwen'\n",
    "})\n",
    "\n",
    "df_prediction_explanation = pd.merge(\n",
    "    df_prediction_explanation_llama[['issue_url', 'toxicity_score_llama', 'toxicity_explanation_llama']],\n",
    "    df_prediction_explanation_qwen[['issue_url', 'toxicity_score_qwen', 'toxicity_explanation_qwen']],\n",
    "    on='issue_url')\n",
    "\n",
    "df_prediction_explanation['is_toxic_llm_pred_llama']= df_prediction_explanation['toxicity_score_llama']>=0.3\n",
    "df_prediction_explanation['is_toxic_llm_pred_qwen']= df_prediction_explanation['toxicity_score_qwen']>=0.3\n",
    "\n",
    "df_prediction_explanation['avg_toxicity_score'] = (df_prediction_explanation['toxicity_score_llama']+df_prediction_explanation['toxicity_score_qwen'])/2\n",
    "\n",
    "df_prediction_explanation['toxicity_score_diff'] = abs(df_prediction_explanation['toxicity_score_llama']-df_prediction_explanation['toxicity_score_qwen'])\n",
    "\n",
    "\n",
    "df_prediction_explanation['issue_url'] = df_prediction_explanation['issue_url'].astype(str)\n",
    "\n",
    "df_prediction_explanation\n",
    "\n"
   ]
  },
  {
   "cell_type": "code",
   "execution_count": null,
   "id": "28a9faf4-d389-4ae3-aec5-eedaf5a6bfb1",
   "metadata": {
    "tags": []
   },
   "outputs": [],
   "source": [
    "print(df_prediction_explanation.columns)"
   ]
  },
  {
   "cell_type": "code",
   "execution_count": null,
   "id": "5f22620a-9fa8-4d38-a4c3-b9e0b3626a54",
   "metadata": {
    "scrolled": true,
    "tags": []
   },
   "outputs": [],
   "source": [
    "\n",
    "# Filter the DataFrame based on the given conditions\n",
    "filtered_df = df_prediction_explanation[\n",
    "    (df_prediction_explanation['toxicity_score_llama'].isnull()) |  # Check for None/NaN\n",
    "    (df_prediction_explanation['toxicity_score_llama'].apply(lambda x: len(x) > 1 if isinstance(x, str) else False)) |  # Length > 1\n",
    "    (df_prediction_explanation['toxicity_score_llama'] == \"\")|\n",
    "    (df_prediction_explanation['toxicity_score_qwen'].isnull()) |  # Check for None/NaN\n",
    "    (df_prediction_explanation['toxicity_score_qwen'].apply(lambda x: len(x) > 1 if isinstance(x, str) else False)) |  # Length > 1\n",
    "    (df_prediction_explanation['toxicity_score_qwen'] == \"\")  # Empty string\n",
    "]\n",
    "\n",
    "# Extract the 'issue_url' values\n",
    "invalid_issue_urls = filtered_df['issue_url']\n",
    "\n",
    "# Display the resulting issue URLs\n",
    "invalid_issue_urls.tolist()"
   ]
  },
  {
   "cell_type": "code",
   "execution_count": null,
   "id": "8587a52b-4c61-46a9-b2c6-61970ae0c176",
   "metadata": {
    "tags": []
   },
   "outputs": [],
   "source": [
    "len(invalid_issue_urls)"
   ]
  },
  {
   "cell_type": "code",
   "execution_count": null,
   "id": "2550547c-09f7-432e-ae99-e3866b3351fd",
   "metadata": {
    "tags": []
   },
   "outputs": [],
   "source": [
    "second_person_pronouns = ['you', 'your', 'yours', 'yourself', 'yourselves']\n",
    "def count_second_person_pronouns(text):\n",
    "    count = 0\n",
    "    words = text.lower().split()\n",
    "    for pronoun in second_person_pronouns:\n",
    "        count += words.count(pronoun)\n",
    "    return count"
   ]
  },
  {
   "cell_type": "code",
   "execution_count": null,
   "id": "a27ccbc1-a459-4dbe-8e44-a3245254c3c4",
   "metadata": {
    "tags": []
   },
   "outputs": [],
   "source": [
    "file_path = '/path/to/input/files' % replace with real path\n",
    "\n",
    "df_comment_data = pd.read_csv(file_name)\n",
    "\n",
    "df_comment_data"
   ]
  },
  {
   "cell_type": "code",
   "execution_count": null,
   "id": "080d6cef-c2a4-4b63-8d7b-87974919e033",
   "metadata": {
    "tags": []
   },
   "outputs": [],
   "source": [
    "print(len(set(df_comment_data['url'])))\n",
    "print(len(set(df_comment_data['issue_url'])))"
   ]
  },
  {
   "cell_type": "code",
   "execution_count": null,
   "id": "8ce095db-f2ee-4aac-9187-1eeff091f67e",
   "metadata": {},
   "outputs": [],
   "source": [
    "file_path = '/path/to/input/files' % replace with real path\n",
    "df_conversation = pd.read_csv(file_name)\n",
    "df_conversation"
   ]
  },
  {
   "cell_type": "code",
   "execution_count": null,
   "id": "15a07da4-8838-4c64-9fbc-100e8fe90b38",
   "metadata": {
    "tags": []
   },
   "outputs": [],
   "source": [
    "df_comment_data['body'] = df_comment_data['body'].astype(str).replace({'nan': '', '': ''})\n",
    "df_comment_data['body'] = df_comment_data['body'].astype(str).fillna('')\n",
    "df_comment_data['pronoun_count'] = df_comment_data['body'].apply(count_second_person_pronouns)\n",
    "df_comment_data['comment_length'] = df_comment_data['body'].apply(len)\n"
   ]
  },
  {
   "cell_type": "code",
   "execution_count": null,
   "id": "a91fa7d9-7711-4ff0-9656-61c01487fc73",
   "metadata": {
    "tags": []
   },
   "outputs": [],
   "source": [
    "\n",
    "# First, group by 'issue_url' and 'speaker_name' and count the comments per speaker\n",
    "speaker_comment_counts = df_comment_data.groupby(['issue_url', 'user']).size()\n",
    "speaker_comment_counts"
   ]
  },
  {
   "cell_type": "code",
   "execution_count": null,
   "id": "db320376-4acf-4fc1-8570-619cbca47b75",
   "metadata": {
    "tags": []
   },
   "outputs": [],
   "source": [
    "max_comments_per_issue_by_speakers = speaker_comment_counts.groupby(level=0).max()\n",
    "max_comments_per_issue_by_speakers"
   ]
  },
  {
   "cell_type": "code",
   "execution_count": null,
   "id": "6a277769-d74a-4c31-aba3-c66ecb6b5bd1",
   "metadata": {
    "tags": []
   },
   "outputs": [],
   "source": [
    "# Define a function to count '@' in each comment\n",
    "def count_at_signs(text):\n",
    "    text = text or ''\n",
    "    \n",
    "    try:\n",
    "        return text.count('@')\n",
    "    except Exception as e:\n",
    "        # Catch all other exceptions\n",
    "        # print(\"An error occurred:\", e)\n",
    "        return 0\n",
    "    \n",
    "def count_quotes(text):\n",
    "    try:\n",
    "        return text.count(\"'\") + text.count('\"') + text.count('`')\n",
    "    except Exception as e:\n",
    "        # print(\"An error occurred:\", e)\n",
    "        return 0\n",
    "    \n",
    "def count_hashes(text):\n",
    "    try:\n",
    "        return text.count(\"#\")\n",
    "    except Exception as e:\n",
    "        # print(\"An error occurred:\", e)\n",
    "        return 0"
   ]
  },
  {
   "cell_type": "code",
   "execution_count": null,
   "id": "36b49205-5e1b-4448-b0ca-6349fb82e05f",
   "metadata": {
    "scrolled": true,
    "tags": []
   },
   "outputs": [],
   "source": [
    "def count_words(text):\n",
    "    return len(str(text).split())\n",
    "\n",
    "\n",
    "# Get max number of comments per speaker per issue\n",
    "median_comments_per_issue_by_speakers = speaker_comment_counts.groupby(level=0).median()\n",
    "\n",
    "# Group by 'issue_url' and aggregate\n",
    "aggregated_data = df_comment_data.groupby('issue_url').agg(\n",
    "    comment_counts=('url', 'count'),  # Count of comments\n",
    "    unique_speakers=('user', 'nunique'),  # Count of unique speaker names\n",
    "    total_second_person_pronouns=('pronoun_count', 'sum'),\n",
    "    max_comment_length=('comment_length', 'max'),  # Maximum length of comments,\n",
    "    total_ats=('body', lambda x: x.apply(count_at_signs).sum()),  # Sum of '@' in all comments\n",
    "    total_quotes=('body', lambda x: x.apply(count_quotes).sum()),  # Sum of quote characters in all comments\n",
    "    median_words_in_comment=('body', lambda x: x.apply(count_words).median()),\n",
    "    std_dev_words_in_comment=('body', lambda x: x.apply(count_words).std()),\n",
    "    max_words_in_comment=('body', lambda x: x.apply(count_words).max())\n",
    ")\n",
    "\n",
    "aggregated_data['max_comments_by_one_speaker'] = aggregated_data.index.map(max_comments_per_issue_by_speakers)\n",
    "aggregated_data['median_comments_by_one_speaker'] = aggregated_data.index.map(median_comments_per_issue_by_speakers)\n",
    "\n",
    "\n",
    "# Reset index to make 'issue_url' a column again\n",
    "aggregated_data.reset_index(inplace=True)\n",
    "# aggregated_data=aggregated_data[:25000]\n",
    "\n",
    "# Print the result\n",
    "aggregated_data\n"
   ]
  },
  {
   "cell_type": "code",
   "execution_count": null,
   "id": "dd57e8eb-20f0-4e6a-a7bf-7a04409e2346",
   "metadata": {
    "tags": []
   },
   "outputs": [],
   "source": [
    "def check_is_closed(group):\n",
    "    last_two_comments = group.tail(2)  # Get the last 2 comments for the issue_url\n",
    "    return int(last_two_comments['body'].str.contains(r'\\bclose\\b', case=False).any())\n",
    "\n",
    "# Group by issue_url and apply the function\n",
    "aggregated_data2 = df_comment_data.groupby('issue_url').apply(\n",
    "    lambda group: pd.Series({'is_issue_closed': check_is_closed(group)})\n",
    ").reset_index()\n",
    "\n",
    "\n",
    "def count_emojis(text):\n",
    "    \"\"\"\n",
    "    Count the total number of emojis in a text string.\n",
    "    \n",
    "    Args:\n",
    "        text (str): The text string to analyze (e.g., GitHub issue comment)\n",
    "    \n",
    "    Returns:\n",
    "        int: Total number of emojis found\n",
    "    \"\"\"\n",
    "    # Get all emojis present in the text\n",
    "    emoji_list = [c for c in text if c in emoji.EMOJI_DATA]\n",
    "    \n",
    "    # Return the count\n",
    "    return len(emoji_list)\n",
    "\n",
    "def calculate_emoji_metrics(group):\n",
    "    # Calculate total emojis across all comments for an issue_url\n",
    "    total_emojis = group['body'].apply(count_emojis).sum()\n",
    "    \n",
    "    # Count the number of comments containing at least one emoji\n",
    "    total_comments_with_emoji = group['body'].apply(lambda x: count_emojis(x) > 0).sum()\n",
    "    total_comments = len(group)\n",
    "\n",
    "    return pd.Series({\n",
    "        'emoji_count': total_emojis,\n",
    "        'total_comment_with_emoji': total_comments_with_emoji,\n",
    "        'total_comment_with_emoji_ratio': total_comments_with_emoji/total_comments\n",
    "    })\n",
    "\n",
    "# Group by issue_url and apply the function\n",
    "emoji_metrics = df_comment_data.groupby('issue_url').apply(calculate_emoji_metrics).reset_index()\n",
    "\n",
    "# Merge with the aggregated_data2\n",
    "aggregated_data2 = pd.merge(aggregated_data2, emoji_metrics, on='issue_url')\n",
    "\n",
    "# aggregated_data2['code_of_conduct_mentioned'] = df_comment_data.groupby('issue_url')['text'].apply(\n",
    "#     lambda comments: int(comments.str.contains(\"code of conduct\", case=False).any())\n",
    "# ).reset_index(drop=True)\n",
    "\n",
    "def get_first_coc_mention_idx(comments):\n",
    "    # Find the first occurrence of \"code of conduct\" in comments\n",
    "    mask = comments.str.contains(\"code of conduct\", case=False)\n",
    "    # If found, return the index (starting from 1), else return 0\n",
    "    if mask.any():\n",
    "        return mask.idxmax() + 1  # Adding 1 to convert from 0-based to 1-based indexing\n",
    "    return 0\n",
    "\n",
    "# Apply the function to get the index of first code of conduct mention\n",
    "aggregated_data2['code_of_conduct_mentioned_comment_idx'] = df_comment_data.groupby('issue_url')['body'].apply(\n",
    "    get_first_coc_mention_idx\n",
    ").reset_index(drop=True)\n",
    "\n",
    "aggregated_data2"
   ]
  },
  {
   "cell_type": "code",
   "execution_count": null,
   "id": "a735fcc7-ed9a-4827-aec3-e550e6a2e3bd",
   "metadata": {
    "tags": []
   },
   "outputs": [],
   "source": [
    "# Technical features\n",
    "def has_stack_trace(text):\n",
    "    st_regex = re.compile(r'at [a-zA-Z0-9\\.<>$]+\\(.+\\)')\n",
    "    return bool(st_regex.search(text))\n",
    "\n",
    "def check_template(first_comment):\n",
    "    template_indicators = ['### Description', '## Description', '### Steps to reproduce', '## Steps to reproduce']\n",
    "    return int(any(indicator in first_comment for indicator in template_indicators))\n",
    "\n",
    "# Update aggregation\n",
    "def calculate_technical_features(group):\n",
    "    texts = group['body'].astype(str)\n",
    "    first_comment = texts.iloc[0] if not texts.empty else \"\"\n",
    "    \n",
    "    return pd.Series({\n",
    "        'has_stack_trace': int(texts.apply(has_stack_trace).any()),\n",
    "        'has_code': int(texts.str.contains(r'```\\w*\\n.*?\\n```', flags=re.DOTALL).any()),\n",
    "        # 'has_markdown': int(texts.str.contains(r'```').any()),\n",
    "        'has_template': check_template(first_comment)\n",
    "    })\n",
    "\n",
    "technical_feature_metrics = df_comment_data.groupby('issue_url').apply(calculate_technical_features).reset_index()\n",
    "aggregated_data2 = pd.merge(aggregated_data2, technical_feature_metrics, on='issue_url')"
   ]
  },
  {
   "cell_type": "code",
   "execution_count": null,
   "id": "a121f02f-24c8-49bd-b6dd-e7f75944d6f1",
   "metadata": {
    "tags": []
   },
   "outputs": [],
   "source": []
  },
  {
   "cell_type": "code",
   "execution_count": null,
   "id": "2c8fc082-1cbb-4edc-acd9-1acf9eb92c5f",
   "metadata": {
    "tags": []
   },
   "outputs": [],
   "source": []
  },
  {
   "cell_type": "code",
   "execution_count": null,
   "id": "a7a6221b-9f58-46ae-9a49-db005c9ba484",
   "metadata": {
    "tags": []
   },
   "outputs": [],
   "source": [
    "file_path = '/path/to/input/files' % replace with real path\n",
    "df_time_features = pd.read_csv(file_name)\n",
    "\n",
    "# df_time_features=df_time_features[:25000]\n",
    "df_time_features"
   ]
  },
  {
   "cell_type": "code",
   "execution_count": null,
   "id": "109a3002-e1a3-4990-b84e-d69c157b1c0c",
   "metadata": {
    "tags": []
   },
   "outputs": [],
   "source": [
    "file_path = '/path/to/input/files' % replace with real path\n",
    "df_text_descriptive = pd.read_csv(file_name)\n",
    "\n",
    "# df_text_descriptive = df_text_descriptive.drop(columns=['is_toxic','body'])\n",
    "df_text_descriptive = df_text_descriptive.rename(columns={col:  col+'_TD' if col != 'issue_url' else col for col in df_text_descriptive.columns})\n",
    "\n",
    "# df_text_descriptive=df_text_descriptive[:25000]\n",
    "df_text_descriptive"
   ]
  },
  {
   "cell_type": "code",
   "execution_count": null,
   "id": "df044409-0dfe-4ecf-943b-2012e4cc9428",
   "metadata": {
    "tags": []
   },
   "outputs": [],
   "source": [
    "x= df_text_descriptive['symbol_to_word_ratio_#_TD'].tolist()\n",
    "x.sort()\n",
    "x[-5:]"
   ]
  },
  {
   "cell_type": "code",
   "execution_count": null,
   "id": "f9a68295-0db2-494a-b6e2-d4844ba8d4c5",
   "metadata": {
    "tags": []
   },
   "outputs": [],
   "source": [
    "print(df_text_descriptive['symbol_to_word_ratio_#_TD'].tolist().sort())"
   ]
  },
  {
   "cell_type": "code",
   "execution_count": null,
   "id": "dbdbba16-64f9-4a3b-99a5-9f9995d2a700",
   "metadata": {
    "tags": []
   },
   "outputs": [],
   "source": [
    "df_text_descriptive.loc[df_text_descriptive['symbol_to_word_ratio_#_TD'] < 0.0001, 'symbol_to_word_ratio_#_TD'] = 0.0001\n"
   ]
  },
  {
   "cell_type": "code",
   "execution_count": null,
   "id": "dea4f90d-11c2-4c91-bb6a-631e5e98fe7f",
   "metadata": {},
   "outputs": [],
   "source": [
    "file_path = '/path/to/input/files' % replace with real path\n",
    "df_text_content_features= pd.read_csv(file_name)\n",
    "\n",
    "df_text_content_features=df_text_content_features.drop(columns=['conversation'])\n",
    "\n",
    "# df_text_content_features=df_text_content_features[:25000]\n",
    "df_text_content_features"
   ]
  },
  {
   "cell_type": "code",
   "execution_count": null,
   "id": "511dc7eb-2d09-4592-9023-14a1f6463cce",
   "metadata": {
    "tags": []
   },
   "outputs": [],
   "source": [
    "emotions= [\n",
    "            # 'admiration', 'amusement',\n",
    "    'anger', 'annoyance', 'approval',\n",
    "    # 'caring',\n",
    "            'confusion', 'curiosity', 'desire', 'disappointment', 'disapproval',\n",
    "            'disgust', 'embarrassment', \n",
    "    # 'excitement', 'fear', 'gratitude', 'grief',\n",
    "            # 'joy', 'love', 'nervousness', 'neutral', 'optimism', \n",
    "    'pride',\n",
    "    # 'realization', 'relief', 'remorse', \n",
    "    'sadness', 'surprise'\n",
    "        ]\n",
    "\n",
    "file_path = '/path/to/input/files' % replace with real path\n",
    "df_emotion_scores = pd.read_csv(file_path)\n",
    "\n",
    "df_emotion_scores= df_emotion_scores[emotions+['issue_url']]\n",
    "# df_emotion_scores=df_emotion_scores[:25000]\n",
    "df_emotion_scores"
   ]
  },
  {
   "cell_type": "code",
   "execution_count": null,
   "id": "eb64afc3-aee1-4a9e-99b8-ce34c85c36a4",
   "metadata": {},
   "outputs": [],
   "source": [
    "file_path = '/path/to/input/files' % replace with real path\n",
    "df_sentiment_polarity_senticr = pd.read_csv(file_path)\n",
    "df_sentiment_polarity_senticr"
   ]
  },
  {
   "cell_type": "code",
   "execution_count": null,
   "id": "28ecce76-8ae1-45ba-bf6e-101be83ceaa0",
   "metadata": {
    "tags": []
   },
   "outputs": [],
   "source": [
    "df_sentiment_polarity_senticr=df_sentiment_polarity_senticr[['issue_url', 'has_neg_comment_sentcr', 'non_neg_comment_ratio_sentcr',\n",
    "       'neg_comment_ratio_sentcr', 'sentiment_transition_ratio_sentcr']]\n"
   ]
  },
  {
   "cell_type": "code",
   "execution_count": null,
   "id": "b57ed766-1557-4192-a635-5da38896ba43",
   "metadata": {
    "tags": []
   },
   "outputs": [],
   "source": [
    "file_path = '/path/to/input/files' % replace with real path\n",
    "df_sentiment_polarity_textblob = pd.read_csv(file_path)\n",
    "\n",
    "# df_sentiment_polarity_textblob=df_sentiment_polarity_textblob[:25000]\n",
    "df_sentiment_polarity_textblob"
   ]
  },
  {
   "cell_type": "code",
   "execution_count": null,
   "id": "37d774ac-4040-43e4-8619-d4d7435c466e",
   "metadata": {
    "tags": []
   },
   "outputs": [],
   "source": [
    "file_path = '/path/to/input/files' % replace with real path\n",
    "df_sentiment_polarity_vader = pd.read_csv(file_path)\n",
    "\n",
    "# df_sentiment_polarity_vader=df_sentiment_polarity_vader[:25000]\n",
    "df_sentiment_polarity_vader"
   ]
  },
  {
   "cell_type": "code",
   "execution_count": null,
   "id": "9ac9c534-a009-4357-a4bb-4684d2a676c0",
   "metadata": {},
   "outputs": [],
   "source": []
  },
  {
   "cell_type": "code",
   "execution_count": null,
   "id": "de40700e-4cf7-4aa2-b9bb-6cfa35663c0e",
   "metadata": {},
   "outputs": [],
   "source": [
    "file_path = '/path/to/input/files' % replace with real path\n",
    "df_explanation_features_given_conv_exp = pd.read_csv(file_path)\n",
    "\n",
    "# df_explanation_features_given_conv_exp=df_explanation_features_given_conv_exp[:25000]\n",
    "df_explanation_features_given_conv_exp"
   ]
  },
  {
   "cell_type": "code",
   "execution_count": null,
   "id": "5378647e-78b3-441e-b8b9-01c58cbc8c62",
   "metadata": {},
   "outputs": [],
   "source": [
    "file_path = '/path/to/input/files' % replace with real path\n",
    "df_explanation_features_given_conv = pd.read_csv(file_path)\n",
    "\n",
    "# df_explanation_features_given_conv=df_explanation_features_given_conv[:25000]\n",
    "df_explanation_features_given_conv"
   ]
  },
  {
   "cell_type": "code",
   "execution_count": null,
   "id": "161a0114-be78-47d8-9578-e726496c5711",
   "metadata": {},
   "outputs": [],
   "source": [
    "file_path = '/path/to/input/files' % replace with real path\n",
    "df_explanation_features_given_exp = pd.read_csv(file_path)\n",
    "\n",
    "# df_explanation_features_given_exp=df_explanation_features_given_exp[:25000]\n",
    "df_explanation_features_given_exp"
   ]
  },
  {
   "cell_type": "code",
   "execution_count": null,
   "id": "8a58f660-ed70-4add-aeac-bc7c7792db3b",
   "metadata": {
    "tags": []
   },
   "outputs": [],
   "source": []
  },
  {
   "cell_type": "code",
   "execution_count": null,
   "id": "1d811dff-4b1f-4061-ad12-2195400d2370",
   "metadata": {},
   "outputs": [],
   "source": [
    "file_path = '/path/to/input/files' % replace with real path\n",
    "df_explanation_logits_features = pd.read_csv(file_path)\n",
    "\n",
    "df_explanation_logits_features"
   ]
  },
  {
   "cell_type": "code",
   "execution_count": null,
   "id": "5f8f5ba6-00c9-44e1-ad27-40489e776255",
   "metadata": {},
   "outputs": [],
   "source": [
    "\n",
    "df_explanation_features_given_conv_exp = df_explanation_features_given_conv_exp.rename(columns=\n",
    "                                                 {\n",
    "                                                     'toxic_label_probability': 'toxic_prob_conv_exp',\n",
    "                                                     'non_toxic_label_probability': 'non_toxic_prob_conv_exp',\n",
    "                                                 })\n",
    "df_explanation_features_given_conv_exp"
   ]
  },
  {
   "cell_type": "code",
   "execution_count": null,
   "id": "ffa032da-e824-4d55-8886-5aa310ab00b6",
   "metadata": {},
   "outputs": [],
   "source": [
    "\n",
    "df_explanation_features_given_conv = df_explanation_features_given_conv.rename(columns=\n",
    "                                     {\n",
    "                                         'toxic_label_probability': 'toxic_prob_conv',\n",
    "                                         'non_toxic_label_probability': 'non_toxic_prob_conv',\n",
    "                                     })\n",
    "df_explanation_features_given_conv"
   ]
  },
  {
   "cell_type": "code",
   "execution_count": null,
   "id": "c5dc1dc1-2eda-4ec7-b9aa-fc6b1259d9d0",
   "metadata": {},
   "outputs": [],
   "source": [
    "\n",
    "df_explanation_features_given_exp = df_explanation_features_given_exp.rename(columns=\n",
    "                                     {\n",
    "                                         'toxic_label_probability': 'toxic_prob_exp',\n",
    "                                         'non_toxic_label_probability': 'non_toxic_prob_exp',\n",
    "                                     })\n",
    "df_explanation_features_given_exp"
   ]
  },
  {
   "cell_type": "code",
   "execution_count": null,
   "id": "1f62b590-5127-43a5-9a8e-8c997d4a8ada",
   "metadata": {},
   "outputs": [],
   "source": [
    "df_explanation_logits_features = df_explanation_logits_features.rename(columns=\n",
    "                                     {\n",
    "                                         'first_token_logit': 'exp_first_token_logit',\n",
    "                                         'first_token_entropy': 'exp_first_token_entropy',\n",
    "                                         'avg_entropy': 'exp_avg_entropy',\n",
    "                                         'avg_logits': 'exp_avg_logits'\n",
    "                                     })\n",
    "df_explanation_logits_features"
   ]
  },
  {
   "cell_type": "code",
   "execution_count": null,
   "id": "55bdda22-9429-4218-a379-dd170c53b9b0",
   "metadata": {},
   "outputs": [],
   "source": [
    "df_explanation_features = pd.DataFrame()\n",
    "df_explanation_features = pd.merge(df_explanation_features_given_conv_exp, df_explanation_features_given_conv, on='issue_url')\n",
    "df_explanation_features = pd.merge(df_explanation_features, df_explanation_features_given_exp, on='issue_url')\n",
    "df_explanation_features = pd.merge(df_explanation_features, df_explanation_logits_features, on='issue_url')\n",
    "df_explanation_features=df_explanation_features.drop('Unnamed: 0', axis=1, errors='ignore')\n",
    "df_explanation_features\n",
    "\n"
   ]
  },
  {
   "cell_type": "code",
   "execution_count": null,
   "id": "81c51878-2c58-4128-a755-d0cba1730b49",
   "metadata": {
    "tags": []
   },
   "outputs": [],
   "source": [
    "df_explanation_features.columns"
   ]
  },
  {
   "cell_type": "code",
   "execution_count": null,
   "id": "e51abe25-ae03-42b6-9cf7-af0176779f64",
   "metadata": {},
   "outputs": [],
   "source": [
    "##########################################\n",
    "df_merged = aggregated_data2.copy()\n",
    "\n",
    "df_merged = pd.merge(df_merged, df_prediction_explanation[[\n",
    "    'issue_url', 'toxicity_score_llama', 'is_toxic_llm_pred_llama',\n",
    "    'toxicity_score_qwen', 'is_toxic_llm_pred_qwen',\n",
    "    'avg_toxicity_score', 'toxicity_score_diff'\n",
    "]], on='issue_url')\n",
    "\n",
    "# df_merged = pd.merge(df_merged, df_bert_score, on='issue_url')\n",
    "df_merged = pd.merge(df_merged, df_time_features, on='issue_url')\n",
    "\n",
    "# df_merged = pd.merge(df_merged, df_perplexity, on='issue_url')\n",
    "df_merged = pd.merge(df_merged, aggregated_data, on='issue_url')\n",
    "\n",
    "# df_merged = pd.merge(df_merged, df_tone_features, on='issue_url')\n",
    "\n",
    "# # we may not use emotion scores\n",
    "df_merged = pd.merge(df_merged, df_emotion_scores, on='issue_url')\n",
    "\n",
    "df_merged = pd.merge(df_merged, df_sentiment_polarity_senticr, on='issue_url')\n",
    "df_merged = pd.merge(df_merged, df_sentiment_polarity_textblob, on='issue_url')\n",
    "df_merged = pd.merge(df_merged, df_sentiment_polarity_vader, on='issue_url')\n",
    "\n",
    "df_merged = pd.merge(df_merged, df_text_descriptive, on='issue_url')\n",
    "df_merged = pd.merge(df_merged, df_text_content_features, on='issue_url')\n",
    "\n",
    "# df_merged = pd.merge(df_merged, df_label_logits_features, on=['issue_url'])\n",
    "\n",
    "# df_merged = pd.merge(df_merged, df_outlier_score, on='issue_url')\n",
    "\n",
    "# # df_merged = pd.merge(df_merged, df_explanation_features[['is_toxic', 'issue_url']], on=['issue_url'])\n",
    "df_merged = pd.merge(df_merged, df_explanation_features, on=['issue_url'])\n",
    "# df_merged[\"is_toxic\"] = df_explanation_features['is_toxic']\n",
    "\n",
    "\n",
    "# df_merged\n",
    "df_merged = df_merged.reset_index(drop=True)\n",
    "\n",
    "df_merged\n",
    "\n"
   ]
  },
  {
   "cell_type": "code",
   "execution_count": null,
   "id": "a7be2bf0-e0e5-4a39-8e5a-d19b32ba5f23",
   "metadata": {
    "scrolled": true,
    "tags": []
   },
   "outputs": [],
   "source": [
    "df_merged.columns.tolist()"
   ]
  },
  {
   "cell_type": "markdown",
   "id": "1518531d-9f93-408f-a88b-cdcd786186ef",
   "metadata": {},
   "source": [
    "## Remove Used Conversations"
   ]
  },
  {
   "cell_type": "code",
   "execution_count": null,
   "id": "070300e1-4801-41ba-b241-593172140ce1",
   "metadata": {
    "tags": []
   },
   "outputs": [],
   "source": [
    "# df_merged = df_merged[~df_merged['issue_url'].isin(new_labeled_urls)]\n",
    "# df_merged"
   ]
  },
  {
   "cell_type": "markdown",
   "id": "9a35b24c-941d-4b25-b31c-7f52a4f5140b",
   "metadata": {},
   "source": [
    "### Removing Issues for which LLama Could not Produce Label"
   ]
  },
  {
   "cell_type": "code",
   "execution_count": null,
   "id": "2a3948ed-46f4-4256-b67f-0fe44d0c270e",
   "metadata": {
    "tags": []
   },
   "outputs": [],
   "source": [
    "df_merged = df_merged[~df_merged['issue_url'].isin(invalid_issue_urls)]"
   ]
  },
  {
   "cell_type": "markdown",
   "id": "352b9c81-187d-42a9-add7-a20df4fc8480",
   "metadata": {},
   "source": [
    "# Use Same Features as the Model"
   ]
  },
  {
   "cell_type": "code",
   "execution_count": null,
   "id": "22137dab-d1a6-4fd9-9d5b-8ddf72a26b9b",
   "metadata": {
    "tags": []
   },
   "outputs": [],
   "source": [
    "feature_columns_df =  pd.read_csv(file_name)\n",
    "feature_columns = feature_columns_df['features'].to_list()\n",
    "feature_columns"
   ]
  },
  {
   "cell_type": "code",
   "execution_count": null,
   "id": "745a317c-fd34-4387-9990-2cf8557190db",
   "metadata": {
    "tags": []
   },
   "outputs": [],
   "source": [
    "len(feature_columns)"
   ]
  },
  {
   "cell_type": "code",
   "execution_count": null,
   "id": "4dcddb75-1429-455b-9f23-42608b18503f",
   "metadata": {},
   "outputs": [],
   "source": [
    "df_merged = df_merged[['issue_url']+feature_columns]"
   ]
  },
  {
   "cell_type": "code",
   "execution_count": null,
   "id": "edb25d39-0713-4ed1-add8-bd109a8ceb62",
   "metadata": {},
   "outputs": [],
   "source": [
    "# df_merged.to_csv(\"non_labelled_all_features.csv\", index = False)"
   ]
  },
  {
   "cell_type": "code",
   "execution_count": null,
   "id": "610f5d61-5496-4924-98dd-37447d4fca00",
   "metadata": {
    "scrolled": true,
    "tags": []
   },
   "outputs": [],
   "source": [
    "df_merged.columns"
   ]
  },
  {
   "cell_type": "code",
   "execution_count": null,
   "id": "c0264dfa-1325-4e0b-b0b7-8557f14647a4",
   "metadata": {},
   "outputs": [],
   "source": [
    "# Assuming `series` is your Pandas Series\n",
    "indices_with_none1 = df_merged['is_toxic_llm_pred_llama'][df_merged['is_toxic_llm_pred_llama'].isna()].index.tolist()\n",
    "indices_with_none2 = df_merged['is_toxic_llm_pred_qwen'][df_merged['is_toxic_llm_pred_qwen'].isna()].index.tolist()\n",
    "\n",
    "# Display the result\n",
    "indices_with_none = indices_with_none1+indices_with_none2\n",
    "indices_with_none"
   ]
  },
  {
   "cell_type": "code",
   "execution_count": null,
   "id": "40f14ccb-bfe7-4a90-a228-012fc68e3ad4",
   "metadata": {
    "tags": []
   },
   "outputs": [],
   "source": [
    "df_merged = df_merged.drop(index=indices_with_none).reset_index(drop=True)\n",
    "df_merged"
   ]
  },
  {
   "cell_type": "code",
   "execution_count": null,
   "id": "efa7008a-9fd4-422c-a4ef-cdb9b30512c4",
   "metadata": {
    "tags": []
   },
   "outputs": [],
   "source": [
    "print(len(df_merged.columns))\n",
    "df_merged.columns"
   ]
  },
  {
   "cell_type": "markdown",
   "id": "5f03727a-ce74-4dda-a841-ae29264c5bd7",
   "metadata": {},
   "source": [
    "## Removing NAN"
   ]
  },
  {
   "cell_type": "code",
   "execution_count": null,
   "id": "2ecf14e3-ddef-47b7-bb49-2e178172d543",
   "metadata": {
    "tags": []
   },
   "outputs": [],
   "source": [
    "df_merged['is_toxic_llm_pred_llama'] = df_merged['is_toxic_llm_pred_llama'].astype(int)\n",
    "df_merged['is_toxic_llm_pred_qwen'] = df_merged['is_toxic_llm_pred_qwen'].astype(int)\n"
   ]
  },
  {
   "cell_type": "code",
   "execution_count": null,
   "id": "a784dde9-b2cc-4495-89db-69033f95cbb1",
   "metadata": {
    "tags": []
   },
   "outputs": [],
   "source": [
    "print(\"LLM predicted toxic samples: \", sum(df_merged['is_toxic_llm_pred_llama']))"
   ]
  },
  {
   "cell_type": "code",
   "execution_count": null,
   "id": "30a68873-1cab-40f4-b5b0-c1b473887759",
   "metadata": {
    "tags": []
   },
   "outputs": [],
   "source": [
    "# removing rows where llm couldnot predict properly\n",
    "df_merged = df_merged[df_merged['is_toxic_llm_pred_llama'].isin([0,1])]\n",
    "df_merged"
   ]
  },
  {
   "cell_type": "code",
   "execution_count": null,
   "id": "31c985c9-86a0-4355-9b7e-e53659f54880",
   "metadata": {
    "tags": []
   },
   "outputs": [],
   "source": [
    "nan_columns = df_merged.columns[df_merged.isna().any()].tolist()\n",
    "\n",
    "print(nan_columns)"
   ]
  },
  {
   "cell_type": "code",
   "execution_count": null,
   "id": "ed86d7af-2299-4f29-acb7-1519fe9c68ee",
   "metadata": {
    "tags": []
   },
   "outputs": [],
   "source": [
    "# removing rows with nan values\n",
    "df_merged=df_merged.dropna(subset=nan_columns)\n",
    "df_merged"
   ]
  },
  {
   "cell_type": "code",
   "execution_count": null,
   "id": "3b1a1d4c-404f-4336-ab3b-f7e4dbb31272",
   "metadata": {
    "tags": []
   },
   "outputs": [],
   "source": [
    "string_columns = df_merged.select_dtypes(include=['object', 'string']).columns\n",
    "\n",
    "print(\"String columns:\", list(string_columns))"
   ]
  },
  {
   "cell_type": "markdown",
   "id": "e4594448-b53d-41b3-9cfb-9c5484af28c1",
   "metadata": {},
   "source": [
    "## Feature Standardization"
   ]
  },
  {
   "cell_type": "code",
   "execution_count": null,
   "id": "b2fb1ea4-60a0-48e8-9c60-9a75589d6663",
   "metadata": {
    "scrolled": true,
    "tags": []
   },
   "outputs": [],
   "source": []
  },
  {
   "cell_type": "code",
   "execution_count": null,
   "id": "6c434d98-e038-490d-b77b-95e825b9b9d3",
   "metadata": {},
   "outputs": [],
   "source": [
    "# replace infinite values with nan\n",
    "df_merged[feature_columns] = df_merged[feature_columns].replace([np.inf, -np.inf], np.nan)\n"
   ]
  },
  {
   "cell_type": "code",
   "execution_count": null,
   "id": "fabfed8b-4342-4155-a403-26d8cf644100",
   "metadata": {
    "tags": []
   },
   "outputs": [],
   "source": [
    "nan_columns = df_merged.columns[df_merged.isna().any()].tolist()\n",
    "\n",
    "print(nan_columns)"
   ]
  },
  {
   "cell_type": "code",
   "execution_count": null,
   "id": "ab0ce178-40ac-4958-82dd-2bfac6b54ac4",
   "metadata": {
    "tags": []
   },
   "outputs": [],
   "source": [
    "# Option 1: Drop rows with inf/nan values\n",
    "df_merged = df_merged.dropna(subset=feature_columns)\n",
    "df_merged"
   ]
  },
  {
   "cell_type": "code",
   "execution_count": null,
   "id": "3e929cf8-5d50-4789-a44c-8f0d1e418527",
   "metadata": {
    "tags": []
   },
   "outputs": [],
   "source": []
  },
  {
   "cell_type": "code",
   "execution_count": null,
   "id": "36a2537a-0f4f-463f-bb00-de5cb27a4e30",
   "metadata": {
    "tags": []
   },
   "outputs": [],
   "source": [
    "string_columns = df_merged.select_dtypes(include=['object', 'string']).columns\n",
    "\n",
    "print(\"String columns:\", list(string_columns))"
   ]
  },
  {
   "cell_type": "markdown",
   "id": "4073046a-b3b6-4ee1-8c95-4910e78c315f",
   "metadata": {
    "tags": []
   },
   "source": [
    "### Ramdomly Sample Conversations"
   ]
  },
  {
   "cell_type": "code",
   "execution_count": null,
   "id": "378c2c77-66b7-46bd-98a5-6c282cfe4b1b",
   "metadata": {
    "tags": []
   },
   "outputs": [],
   "source": [
    "st_scaler = joblib.load('./verifier_randomforest_models/standardScaler_70_30_split_explainable_features_reduced_with_qwen_final.pkl')\n",
    "\n",
    "df_standardized = pd.DataFrame(st_scaler.fit_transform(df_merged[feature_columns]), columns=feature_columns)\n",
    "df_standardized = df_standardized.reset_index(drop=True)\n",
    "df_standardized['issue_url']=df_merged['issue_url'].reset_index(drop=True)\n",
    "df_standardized"
   ]
  },
  {
   "cell_type": "code",
   "execution_count": null,
   "id": "e60553be-9f2d-4856-a675-91e7a9cce854",
   "metadata": {
    "tags": []
   },
   "outputs": [],
   "source": [
    "nan_columns = df_standardized.columns[df_standardized.isna().any()].tolist()\n",
    "\n",
    "print(nan_columns)"
   ]
  },
  {
   "cell_type": "code",
   "execution_count": null,
   "id": "14d73ba8-b7f1-4e28-9842-528efa8cc109",
   "metadata": {
    "tags": []
   },
   "outputs": [],
   "source": [
    "print(df_standardized[nan_columns].isna().sum())  # Count NaNs in specified columns"
   ]
  },
  {
   "cell_type": "code",
   "execution_count": null,
   "id": "e5eea17d-f34f-4d44-9f08-8249ae6b500f",
   "metadata": {
    "tags": []
   },
   "outputs": [],
   "source": [
    "if 'per_word_perplexity_TD' in df_merged.columns: \n",
    "    print(df_merged['per_word_perplexity_TD'].std() )# as std is infinite we need to drop it"
   ]
  },
  {
   "cell_type": "code",
   "execution_count": null,
   "id": "c0890e86-c45f-4326-aa6f-3a8e247a00a2",
   "metadata": {
    "tags": []
   },
   "outputs": [],
   "source": [
    "if 'symbol_to_word_ratio_#_TD' in df_merged.columns: \n",
    "    print(\"min value:\", df_merged['symbol_to_word_ratio_#_TD'].min() )\n",
    "    print(\"max value:\", df_merged['symbol_to_word_ratio_#_TD'].max() )\n",
    "    print(\"median:\",df_merged['symbol_to_word_ratio_#_TD'].median() )\n",
    "    print(\"std:\", df_merged['symbol_to_word_ratio_#_TD'].std() )# as std is infinite we need to drop it "
   ]
  },
  {
   "cell_type": "code",
   "execution_count": null,
   "id": "d1dc1aab-ef58-408a-a1e7-dbd2cbe258d4",
   "metadata": {
    "tags": []
   },
   "outputs": [],
   "source": [
    "df_standardized=df_standardized.drop(columns=nan_columns)\n",
    "\n",
    "df_standardized"
   ]
  },
  {
   "cell_type": "code",
   "execution_count": null,
   "id": "c590cbc4-8a2c-4a0c-aa31-4e81b768c773",
   "metadata": {
    "tags": []
   },
   "outputs": [],
   "source": []
  },
  {
   "cell_type": "markdown",
   "id": "c90ad202-f937-491a-8f6d-739339f0e5c0",
   "metadata": {},
   "source": [
    "## Load Models"
   ]
  },
  {
   "cell_type": "code",
   "execution_count": null,
   "id": "8aef1b60-b3c3-4baf-aa6c-967ff379cf94",
   "metadata": {
    "scrolled": true,
    "tags": []
   },
   "outputs": [],
   "source": [
    "file_path = '/path/to/input/files' % replace with real path\n",
    "\n",
    "loaded_model = joblib.load(file_path)\n"
   ]
  },
  {
   "cell_type": "code",
   "execution_count": null,
   "id": "3b572147-f4a5-4260-9a98-a7d6f7830253",
   "metadata": {
    "tags": []
   },
   "outputs": [],
   "source": [
    "def predict_with_model(model, X, return_probabilities=True):\n",
    "    \"\"\"\n",
    "    Make predictions using a loaded model\n",
    "    \n",
    "    Parameters:\n",
    "    model: loaded sklearn model\n",
    "    X (pandas.DataFrame): Features to predict on\n",
    "    return_probabilities (bool): If True, return probability scores along with predictions\n",
    "    \n",
    "    Returns:\n",
    "    tuple or array: If return_probabilities is True, returns (predictions, probabilities),\n",
    "                   otherwise returns just predictions\n",
    "    \"\"\"\n",
    "    predictions = model.predict(X)\n",
    "    if return_probabilities:\n",
    "        probabilities = model.predict_proba(X)\n",
    "        return predictions, probabilities[:, 1]\n",
    "    return predictions\n"
   ]
  },
  {
   "cell_type": "code",
   "execution_count": null,
   "id": "4252486f-5ca8-4e3f-b8ce-6becde0f2517",
   "metadata": {
    "scrolled": true,
    "tags": []
   },
   "outputs": [],
   "source": [
    "# Make predictions using ensemble of all models\n",
    "_, probabilities = predict_with_model(loaded_model, df_standardized[feature_columns])\n",
    "predictions = probabilities>=0.4\n",
    "df_merged['is_correct_verifier_pred_probability'] = probabilities\n",
    "df_merged['is_correct_verifier_pred_label'] = predictions\n"
   ]
  },
  {
   "cell_type": "code",
   "execution_count": null,
   "id": "353f3601-e7bd-4163-aa26-9d81e95ffd06",
   "metadata": {
    "tags": []
   },
   "outputs": [],
   "source": []
  },
  {
   "cell_type": "code",
   "execution_count": null,
   "id": "558cfc2a-b07e-46e3-a4eb-55c354327524",
   "metadata": {
    "scrolled": true,
    "tags": []
   },
   "outputs": [],
   "source": [
    "for p in probabilities:\n",
    "    print(p)"
   ]
  },
  {
   "cell_type": "code",
   "execution_count": null,
   "id": "72de58f8-83a3-460a-8b39-7515b35f817a",
   "metadata": {
    "tags": []
   },
   "outputs": [],
   "source": [
    "incorrect_df = df_merged[df_merged['is_correct_verifier_pred_label']==False]\n",
    "total_incorrect = incorrect_df.shape[0]\n",
    "\n",
    "print(f'Total incorrect prediction by verifier is {total_incorrect} out of {df_merged.shape[0]}')"
   ]
  },
  {
   "cell_type": "code",
   "execution_count": null,
   "id": "b4839c4a-59c5-49f6-92e6-0acceb429ca9",
   "metadata": {
    "tags": []
   },
   "outputs": [],
   "source": [
    "print(f\"Total llama predicted toxic conversation is {df_merged[df_merged['is_toxic_llm_pred_llama']==True].shape[0]} out of {df_merged.shape[0]}\")"
   ]
  },
  {
   "cell_type": "code",
   "execution_count": null,
   "id": "b1d2c3c6-4914-49ff-8c38-d4b19414f858",
   "metadata": {
    "tags": []
   },
   "outputs": [],
   "source": [
    "correct_df = df_merged[df_merged['is_correct_verifier_pred_label']==True]\n",
    "\n",
    "correct_df"
   ]
  },
  {
   "cell_type": "code",
   "execution_count": null,
   "id": "05cc9dc9-b466-438e-ac77-60f731808009",
   "metadata": {
    "tags": []
   },
   "outputs": [],
   "source": [
    "correct_toxic_df = correct_df[correct_df['is_toxic_llm_pred_llama']==True]\n",
    "print(f\"{correct_toxic_df.shape[0]} LLM predicted toxic are  in {correct_df.shape[0]} correct predictions\")"
   ]
  },
  {
   "cell_type": "code",
   "execution_count": null,
   "id": "578690fa-f502-4950-993c-225f2c6cc38a",
   "metadata": {},
   "outputs": [],
   "source": [
    "incorrect_df = df_merged[df_merged['is_correct_verifier_pred_label']==False]\n",
    "\n",
    "incorrect_df = incorrect_df.merge(df_conversation, on='issue_url', how='left')\n",
    "incorrect_df"
   ]
  },
  {
   "cell_type": "code",
   "execution_count": null,
   "id": "e11e378f-2c79-48a5-a659-d98d7dc0d049",
   "metadata": {
    "tags": []
   },
   "outputs": [],
   "source": [
    "incorrect_df.to_csv('./output/large_dataset_validated_incorrect_conversations_final.csv', index = False)"
   ]
  },
  {
   "cell_type": "code",
   "execution_count": null,
   "id": "9fa0081c-4673-4634-839b-1ac2e4f618f8",
   "metadata": {},
   "outputs": [],
   "source": [
    "correct_df = df_merged[df_merged['is_correct_verifier_pred_label']==True]\n",
    "correct_df"
   ]
  },
  {
   "cell_type": "code",
   "execution_count": null,
   "id": "c24305c5-f238-4840-a705-f269e1004010",
   "metadata": {},
   "outputs": [],
   "source": [
    "correct_df.to_csv('./output/large_dataset_validated_correct_conversations_final.csv', index = False)"
   ]
  },
  {
   "cell_type": "code",
   "execution_count": null,
   "id": "10ff062e-60f9-4130-99c1-3f20dbc23a41",
   "metadata": {},
   "outputs": [],
   "source": []
  },
  {
   "cell_type": "code",
   "execution_count": null,
   "id": "0d439d34-46ed-491e-8076-76e0e5d9b4eb",
   "metadata": {},
   "outputs": [],
   "source": []
  },
  {
   "cell_type": "code",
   "execution_count": null,
   "id": "aee59db0-10c5-4e46-b02d-01c963dc583a",
   "metadata": {},
   "outputs": [],
   "source": []
  }
 ],
 "metadata": {
  "kernelspec": {
   "display_name": "Python 3 (ipykernel)",
   "language": "python",
   "name": "python3"
  },
  "language_info": {
   "codemirror_mode": {
    "name": "ipython",
    "version": 3
   },
   "file_extension": ".py",
   "mimetype": "text/x-python",
   "name": "python",
   "nbconvert_exporter": "python",
   "pygments_lexer": "ipython3",
   "version": "3.11.5"
  }
 },
 "nbformat": 4,
 "nbformat_minor": 5
}
